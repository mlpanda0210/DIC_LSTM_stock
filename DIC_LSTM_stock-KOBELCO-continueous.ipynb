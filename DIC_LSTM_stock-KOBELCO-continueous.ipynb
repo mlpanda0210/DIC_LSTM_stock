{
 "cells": [
  {
   "cell_type": "code",
   "execution_count": 11,
   "metadata": {},
   "outputs": [],
   "source": []
  },
  {
   "cell_type": "code",
   "execution_count": null,
   "metadata": {},
   "outputs": [
    {
     "name": "stdout",
     "output_type": "stream",
     "text": [
      "data: (945,)\n",
      "split_pos: 756\n"
     ]
    },
    {
     "name": "stderr",
     "output_type": "stream",
     "text": [
      "/Users/kenji_tachibana/.pyenv/versions/anaconda3-4.3.0/lib/python3.6/site-packages/keras/models.py:844: UserWarning: The `nb_epoch` argument in `fit` has been renamed `epochs`.\n",
      "  warnings.warn('The `nb_epoch` argument in `fit` '\n"
     ]
    },
    {
     "name": "stdout",
     "output_type": "stream",
     "text": [
      "Epoch 1/50\n",
      "726/726 [==============================] - 9s - loss: 48.0013     \n",
      "Epoch 2/50\n",
      "726/726 [==============================] - 6s - loss: 35.9549     \n",
      "Epoch 3/50\n",
      "726/726 [==============================] - 7s - loss: 32.6738     \n",
      "Epoch 4/50\n",
      "726/726 [==============================] - 7s - loss: 29.9973     \n",
      "Epoch 5/50\n",
      "726/726 [==============================] - 7s - loss: 28.0659     \n",
      "Epoch 6/50\n",
      "726/726 [==============================] - 7s - loss: 26.3457     \n",
      "Epoch 7/50\n",
      "726/726 [==============================] - 7s - loss: 25.2057     \n",
      "Epoch 8/50\n",
      "726/726 [==============================] - 7s - loss: 24.7717     \n",
      "Epoch 9/50\n",
      "726/726 [==============================] - 7s - loss: 24.3887     \n",
      "Epoch 10/50\n",
      "726/726 [==============================] - 6s - loss: 21.5035     \n",
      "Epoch 11/50\n",
      "726/726 [==============================] - 7s - loss: 23.5624     \n",
      "Epoch 12/50\n",
      "726/726 [==============================] - 7s - loss: 22.1344     \n",
      "Epoch 13/50\n",
      "726/726 [==============================] - 7s - loss: 22.5403     \n",
      "Epoch 14/50\n",
      "726/726 [==============================] - 7s - loss: 22.4383     \n",
      "Epoch 15/50\n",
      "726/726 [==============================] - 7s - loss: 21.3146     \n",
      "Epoch 16/50\n",
      "726/726 [==============================] - 7s - loss: 21.4950     \n",
      "Epoch 17/50\n",
      "726/726 [==============================] - 6s - loss: 21.3748     \n",
      "Epoch 18/50\n",
      "726/726 [==============================] - 6s - loss: 21.9929     \n",
      "Epoch 19/50\n",
      "726/726 [==============================] - 7s - loss: 21.2225     \n",
      "Epoch 20/50\n",
      "726/726 [==============================] - 7s - loss: 20.5146     \n",
      "Epoch 21/50\n",
      "726/726 [==============================] - 6s - loss: 20.3124     \n",
      "Epoch 22/50\n",
      "726/726 [==============================] - 7s - loss: 22.0134     \n",
      "Epoch 23/50\n",
      "726/726 [==============================] - 7s - loss: 19.9882     \n",
      "Epoch 24/50\n",
      "726/726 [==============================] - 7s - loss: 21.5883     \n",
      "Epoch 25/50\n",
      "726/726 [==============================] - 6s - loss: 20.4642     \n",
      "Epoch 26/50\n",
      "726/726 [==============================] - 7s - loss: 21.3661     \n",
      "Epoch 27/50\n",
      "726/726 [==============================] - 7s - loss: 21.2399     \n",
      "Epoch 28/50\n",
      "726/726 [==============================] - 7s - loss: 20.3003     \n",
      "Epoch 29/50\n",
      "726/726 [==============================] - 7s - loss: 20.8772     \n",
      "Epoch 30/50\n",
      "726/726 [==============================] - 7s - loss: 19.9218     \n",
      "Epoch 31/50\n",
      "726/726 [==============================] - 7s - loss: 19.3938     \n",
      "Epoch 32/50\n",
      "726/726 [==============================] - 7s - loss: 20.2767     \n",
      "Epoch 33/50\n",
      "726/726 [==============================] - 7s - loss: 20.5911     \n",
      "Epoch 34/50\n",
      "726/726 [==============================] - 7s - loss: 20.0819     \n",
      "Epoch 35/50\n",
      "726/726 [==============================] - 7s - loss: 19.1962     \n",
      "Epoch 36/50\n",
      "726/726 [==============================] - 7s - loss: 19.5974     \n",
      "Epoch 37/50\n",
      "726/726 [==============================] - 7s - loss: 22.0796     \n",
      "Epoch 38/50\n",
      "726/726 [==============================] - 7s - loss: 19.2149     \n",
      "Epoch 39/50\n",
      "726/726 [==============================] - 7s - loss: 19.4019     \n",
      "Epoch 40/50\n",
      "726/726 [==============================] - 7s - loss: 20.2432     \n",
      "Epoch 41/50\n",
      "726/726 [==============================] - 7s - loss: 20.2483     \n",
      "Epoch 42/50\n",
      "726/726 [==============================] - 7s - loss: 19.6399     \n",
      "Epoch 43/50\n",
      "570/726 [======================>.......] - ETA: 1s - loss: 20.0610"
     ]
    }
   ],
   "source": [
    "# -*- coding: utf-8 -*-\n",
    "import numpy\n",
    "import pandas\n",
    "import matplotlib.pyplot as plt\n",
    "import datetime\n",
    "\n",
    "from sklearn import preprocessing\n",
    "from keras.models import Sequential\n",
    "from keras.layers.core import Dense, Activation\n",
    "from keras.layers.recurrent import LSTM\n",
    "\n",
    "class Prediction :\n",
    "\n",
    "    def __init__(self):\n",
    "        self.length_of_sequences = 30\n",
    "        self.in_out_neurons = 1\n",
    "        self.hidden_neurons = 100\n",
    "\n",
    "    def load_data(self, data, n_prev=0):\n",
    "        X, Y = [], []\n",
    "        for i in range(len(data) - n_prev):\n",
    "            #学習データとラベルを作成\n",
    "            X.append(data.iloc[i:(i+n_prev)].as_matrix())\n",
    "            Y.append(data.iloc[i+n_prev].as_matrix())\n",
    "        retX = numpy.array(X)\n",
    "        retY = numpy.array(Y)\n",
    "        return retX, retY\n",
    "\n",
    "\n",
    "    def create_model(self) :\n",
    "        model = Sequential()\n",
    "        #LSTM一層作成\n",
    "        model.add(LSTM(self.hidden_neurons, \\\n",
    "                  batch_input_shape=(None, self.length_of_sequences, self.in_out_neurons), \\\n",
    "                  return_sequences=False ))\n",
    "        #全結合層\n",
    "        model.add(Dense(self.in_out_neurons))\n",
    "        #活性化関数\n",
    "        model.add(Activation(\"linear\"))\n",
    "        #重み更新\n",
    "        model.compile(loss=\"mape\", optimizer=\"adam\")\n",
    "        return model\n",
    "\n",
    "\n",
    "    def train(self, X_train, y_train) :\n",
    "        model = self.create_model()\n",
    "        # 学習\n",
    "        model.fit(X_train, y_train, batch_size=10, nb_epoch=50)\n",
    "        return model\n",
    "    \n",
    "    def set_x_test(self,y_train):\n",
    "        x_test = y_train[-self.length_of_sequences:]\n",
    "        np_x_test = numpy.array([x_test])\n",
    "        return np_x_test\n",
    "        \n",
    "if __name__ == \"__main__\":\n",
    "\n",
    "    prediction = Prediction()\n",
    "\n",
    "  # データ準備\n",
    "    data = None\n",
    "    #２００７年から2017年までのデータを仕様\n",
    "    for year in range(2014, 2018):\n",
    "        #データread\n",
    "        data_ = pandas.read_csv('csv_stock/stocks_5406-T_1d_' + str(year) +  '.csv',encoding='shift-jis')\n",
    "        #データをひとまとまりにする\n",
    "        data = data_ if (data is None) else pandas.concat([data, data_])\n",
    "    #カラム名変更\n",
    "    data.columns = ['date', 'open', 'high', 'low', 'close','Price','Buying and selling price']\n",
    "    data['date'] = pandas.to_datetime(data['date'], format='%Y-%m-%d')\n",
    "    #2016年9月27以前の株価がおかしいので補正\n",
    "    data.loc[(data[\"date\"].dt.date <= datetime.date(2016, 9, 27)), 'close'] *= 10\n",
    "    # 終値のデータを標準化\n",
    "    data['close'] = preprocessing.scale(data['close'])\n",
    "    #日でソーティングする\n",
    "    data = data.sort_values(by='date')\n",
    "    #インデックスをリセットする\n",
    "    data = data.reset_index(drop=True)\n",
    "    #日と終値のみのデータにする。\n",
    "    data = data.loc[:, ['date', 'close']]\n",
    "\n",
    "\n",
    "      # 2割をテストデータへ\n",
    "    split_pos = int(len(data) * 0.8)\n",
    "    print(\"data:\",data['close'].shape)\n",
    "    print(\"split_pos:\",split_pos)\n",
    "    \n",
    "    x_train, y_train = prediction.load_data(data[['close']].iloc[0:split_pos], prediction.length_of_sequences)\n",
    "    x_test_all,  y_test_all  = prediction.load_data(data[['close']].iloc[split_pos:], prediction.length_of_sequences)\n",
    "\n",
    "    model = prediction.train(x_train, y_train)\n",
    "    \n",
    "    "
   ]
  },
  {
   "cell_type": "code",
   "execution_count": 166,
   "metadata": {},
   "outputs": [],
   "source": [
    "predicted  = []\n",
    "x_test =x_test_all[0].reshape([1,-1,1])"
   ]
  },
  {
   "cell_type": "code",
   "execution_count": 167,
   "metadata": {},
   "outputs": [],
   "source": [
    "  #続けて予測し時系列データを作る\n",
    "for i in range(50):\n",
    "    pred = model.predict(x_test,verbose=0)\n",
    "    predicted.append(pred[0])\n",
    "    x_test  = numpy.append(x_test[0][1:],pred).reshape([1,-1,1])"
   ]
  },
  {
   "cell_type": "code",
   "execution_count": 168,
   "metadata": {},
   "outputs": [
    {
     "data": {
      "image/png": "[encoded data removed]",
      "text/plain": [
       "<matplotlib.figure.Figure at 0x15c981320>"
      ]
     },
     "metadata": {},
     "output_type": "display_data"
    }
   ],
   "source": [
    "result = pandas.DataFrame(predicted)\n",
    "result.columns = ['predict']\n",
    "result['actual'] = y_test[:50]\n",
    "result.plot()\n",
    "plt.show()"
   ]
  },
  {
   "cell_type": "code",
   "execution_count": null,
   "metadata": {},
   "outputs": [],
   "source": []
  },
  {
   "cell_type": "code",
   "execution_count": null,
   "metadata": {},
   "outputs": [],
   "source": []
  },
  {
   "cell_type": "code",
   "execution_count": null,
   "metadata": {},
   "outputs": [],
   "source": []
  },
  {
   "cell_type": "code",
   "execution_count": null,
   "metadata": {},
   "outputs": [],
   "source": []
  },
  {
   "cell_type": "code",
   "execution_count": null,
   "metadata": {},
   "outputs": [],
   "source": []
  },
  {
   "cell_type": "code",
   "execution_count": null,
   "metadata": {
    "collapsed": true
   },
   "outputs": [],
   "source": []
  },
  {
   "cell_type": "code",
   "execution_count": null,
   "metadata": {
    "collapsed": true
   },
   "outputs": [],
   "source": []
  },
  {
   "cell_type": "code",
   "execution_count": null,
   "metadata": {
    "collapsed": true
   },
   "outputs": [],
   "source": []
  }
 ],
 "metadata": {
  "kernelspec": {
   "display_name": "Python 3",
   "language": "python",
   "name": "python3"
  },
  "language_info": {
   "codemirror_mode": {
    "name": "ipython",
    "version": 3
   },
   "file_extension": ".py",
   "mimetype": "text/x-python",
   "name": "python",
   "nbconvert_exporter": "python",
   "pygments_lexer": "ipython3",
   "version": "3.6.0"
  }
 },
 "nbformat": 4,
 "nbformat_minor": 2
}
